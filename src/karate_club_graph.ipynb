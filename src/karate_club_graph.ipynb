{
  "nbformat": 4,
  "nbformat_minor": 0,
  "metadata": {
    "colab": {
      "private_outputs": true,
      "provenance": []
    },
    "kernelspec": {
      "name": "python3",
      "display_name": "Python 3"
    },
    "language_info": {
      "name": "python"
    }
  },
  "cells": [
    {
      "cell_type": "code",
      "execution_count": null,
      "metadata": {
        "id": "vN0iVEOLozow"
      },
      "outputs": [],
      "source": [
        "import networkx as  nx\n",
        "import numpy as np\n",
        "import pandas as pd\n",
        "import matplotlib.pyplot as plt"
      ]
    },
    {
      "cell_type": "markdown",
      "source": [
        "# Giới thiệu về karate_club_graph\n",
        "Đồ thị \"karate_club_graph()\" được cung cấp bởi thư viện NetworkX và đại diện cho mạng xã hội của một câu lạc bộ karate. Một số chi tiết chính về nó:\n",
        "\n",
        "- Chứa 34 nút (thành viên của câu lạc bộ karate)\n",
        "- Có 78 cạnh (quan hệ bạn bè giữa các thành viên)\n",
        "- Đây là tập dữ liệu được nghiên cứu nhiều trong lĩnh vực phân tích mạng, thường được sử dụng như một ví dụ để minh họa các số đo và thuật toán mạng.\n",
        "\n",
        "Tập dữ liệu này cung cấp một mạng xã hội thực tế, quy mô nhỏ, có thể được sử dụng để thực hành và khám phá các kỹ thuật phân tích mạng bằng Python và NetworkX.\n"
      ],
      "metadata": {
        "id": "fLFWopF1pr2d"
      }
    },
    {
      "cell_type": "code",
      "source": [
        "# Load dataset\n",
        "G = nx.karate_club_graph()"
      ],
      "metadata": {
        "id": "HD0coWCepYeZ"
      },
      "execution_count": null,
      "outputs": []
    },
    {
      "cell_type": "code",
      "source": [
        "# In thông tin cơ bản\n",
        "print(f\"Số nút: {G.number_of_nodes()}\")\n",
        "print(f\"Số cạnh: {G.number_of_edges()}\")"
      ],
      "metadata": {
        "id": "_SYu37SEqGkt"
      },
      "execution_count": null,
      "outputs": []
    },
    {
      "cell_type": "code",
      "source": [
        "# Vẽ đồ thị\n",
        "# spring_layout\n",
        "# circular_layout\n",
        "# kamada_kawai_layout\n",
        "# fruchterman_reingold_layout\n",
        "# shell_layout\n",
        "# spectral_layout\n",
        "pos = nx.circular_layout(G)\n",
        "plt.figure(figsize=(10,10))\n",
        "nx.draw(G, pos, with_labels=True, node_size=500, edge_color='lightgray')\n",
        "plt.title(\"Karate Club Network\")\n",
        "plt.show()"
      ],
      "metadata": {
        "id": "gCMQ83c9qeBk"
      },
      "execution_count": null,
      "outputs": []
    },
    {
      "cell_type": "markdown",
      "source": [
        "# 1. Tính mật độ (density)"
      ],
      "metadata": {
        "id": "8dWLfsVtr6Md"
      }
    },
    {
      "cell_type": "code",
      "source": [
        "density = nx.density(G)\n",
        "density"
      ],
      "metadata": {
        "id": "7qhxzh7fsJjo"
      },
      "execution_count": null,
      "outputs": []
    },
    {
      "cell_type": "markdown",
      "source": [
        "# 2. Tính degree centrality\n",
        "Số đo bậc đánh giá tầm quan trọng dựa trên số lượng kết nối của một nút. \\\\\n",
        "Số đo bậc là tỷ lệ các nút trong mạng mà một nút được kết nối. \\\\\n",
        "Một nút có càng nhiều kết nối, thì tỷ lệ các nút mà chúng được kết nối sẽ càng cao, vì vậy số lượng kết nối và số đo bậc thực sự có thể được sử dụng thay thế cho nhau."
      ],
      "metadata": {
        "id": "4gNhPo-zse8F"
      }
    },
    {
      "cell_type": "code",
      "source": [
        "deg_cent = nx.degree_centrality(G)\n",
        "deg_cent"
      ],
      "metadata": {
        "id": "TMMA31HpssdC"
      },
      "execution_count": null,
      "outputs": []
    },
    {
      "cell_type": "code",
      "source": [
        "degcent_df = pd.DataFrame(deg_cent, index=[0]).T\n",
        "degcent_df.columns = ['degree_centrality']\n",
        "print(degcent_df)"
      ],
      "metadata": {
        "id": "wJU6UtuGs_bW"
      },
      "execution_count": null,
      "outputs": []
    },
    {
      "cell_type": "code",
      "source": [
        "degcent_df = degcent_df.sort_values(by='degree_centrality', ascending=False)\n",
        "degcent_df.head()"
      ],
      "metadata": {
        "id": "xRQ8-J3dtkGs"
      },
      "execution_count": null,
      "outputs": []
    },
    {
      "cell_type": "code",
      "source": [
        "title = 'Top 20:'\n",
        "_ = degcent_df[0:20].plot.barh(title=title, figsize=(12, 7))\n",
        "plt.gca().invert_yaxis()"
      ],
      "metadata": {
        "id": "eZGKQkfft1rd"
      },
      "execution_count": null,
      "outputs": []
    },
    {
      "cell_type": "code",
      "source": [],
      "metadata": {
        "id": "RO5jrHBMuNFf"
      },
      "execution_count": null,
      "outputs": []
    },
    {
      "cell_type": "markdown",
      "source": [
        "# 3. Tính betweenness centrality\n",
        "\n",
        "Số đo trung tâm (Betweenness centrality) liên quan đến cách thông tin lưu thông qua một mạng lưới. Nếu một nút nằm giữa hai nút khác, thì thông tin từ bất kỳ nút nào trong hai nút đó đều phải đi qua nút nằm giữa chúng. Thông tin di chuyển qua nút nằm ở giữa. Nút đó có thể được coi là một nút thắt cổ chai, hoặc là một vị trí thuận lợi. Việc nắm giữ thông tin mà người khác cần có thể mang lại lợi thế chiến lược. \\\\\n",
        "\n",
        "Tuy nhiên, thông thường, các nút có số đo trung tâm cao nằm giữa nhiều nút, không chỉ giữa hai nút. Điều này thường được thấy trong một mạng lưới khởi nghiệp, nơi một nút trung tâm được kết nối với hàng tá nút khác. Hãy lấy ví dụ về một người có ảnh hưởng trên mạng xã hội. Người đó có thể được kết nối với 22 triệu người theo dõi, nhưng những người theo dõi đó có thể không biết nhau. Chắc chắn họ biết người có ảnh hưởng (hoặc là một bot không chính thống). Người có ảnh hưởng đó là một nút trung tâm và số đo trung tâm sẽ cho thấy điều đó. \\\\\n",
        "\n",
        "Trước khi chúng ta xem cách tính số đo trung tâm, cần lưu ý rằng việc tính toán số đo trung tâm rất tốn thời gian đối với các mạng lưới lớn hoặc dày đặc. Nếu mạng lưới của bạn quá lớn hoặc dày đặc và khiến việc tính toán số đo trung tâm quá chậm đến mức không còn hữu ích nữa, hãy cân nhắc sử dụng một số đo khác để tính mức độ quan trọng."
      ],
      "metadata": {
        "id": "H1KCefJKuYpp"
      }
    },
    {
      "cell_type": "code",
      "source": [
        "betwcent = nx.betweenness_centrality(G)\n",
        "betwcent"
      ],
      "metadata": {
        "id": "nO7bSRyaueV-"
      },
      "execution_count": null,
      "outputs": []
    },
    {
      "cell_type": "code",
      "source": [
        "# Chuyển đổi từ dictionary `betwcent` sang DataFrame và chuyển đổi index thành các keys của dictionary\n",
        "betwcent_df = pd.DataFrame(betwcent, index=[0]).T\n",
        "\n",
        "# Đặt tên cột duy nhất là 'betweenness_centrality' để biểu diễn giá trị độ trung tâm trung gian\n",
        "betwcent_df.columns = ['betweenness_centrality']\n",
        "\n",
        "# Sắp xếp các hàng trong DataFrame theo giá trị cột 'betweenness_centrality' theo thứ tự giảm dần\n",
        "betwcent_df.sort_values('betweenness_centrality', inplace=True, ascending=False)\n",
        "\n",
        "# Hiển thị 5 hàng đầu tiên trong DataFrame sau khi sắp xếp\n",
        "betwcent_df.head()"
      ],
      "metadata": {
        "id": "dLo-puYnuzA7"
      },
      "execution_count": null,
      "outputs": []
    },
    {
      "cell_type": "code",
      "source": [
        "# Đặt tiêu đề biểu đồ là 'Top 20'\n",
        "title = 'Top 20'\n",
        "\n",
        "# Tạo biểu đồ cột ngang (barh) với 20 tài khoản đầu tiên trong DataFrame `betwcent_df`, với tiêu đề và kích thước (12, 7)\n",
        "_ = betwcent_df[0:20].plot.barh(title=title, figsize=(12, 7))\n",
        "\n",
        "# Đảo ngược trục y để các giá trị cao hơn nằm trên cùng\n",
        "plt.gca().invert_yaxis()\n"
      ],
      "metadata": {
        "id": "MVe0eNANvQ7t"
      },
      "execution_count": null,
      "outputs": []
    },
    {
      "cell_type": "markdown",
      "source": [
        "# 4.  Tính closeness centrality\n",
        "\n",
        "Số đo gần gũi (Closeness centrality) liên quan đến mức độ gần của các nút với các nút khác, và điều đó liên quan đến một khái niệm được gọi là đường dẫn ngắn nhất (shortest path). Tuy nhiên, việc tính toán đường đi ngắn nhất lại rất tốn nhiều tính toán (và chậm) đối với các mạng lưới lớn hoặc dày đặc.\n",
        "Do đó, tính số đo gần gũi thậm chí còn chậm hơn tính số đo trung gian (betweenness centrality). Nếu việc nhận kết quả từ tính số đo gần gũi quá chậm do quy mô và mật độ của mạng lưới, có thể chọn một số đo khác để đánh giá tầm quan trọng."
      ],
      "metadata": {
        "id": "ihgtw5NY2oJ6"
      }
    },
    {
      "cell_type": "code",
      "source": [
        "closecent = nx.closeness_centrality(G)\n",
        "closecent"
      ],
      "metadata": {
        "id": "3wrzlkO52sNu"
      },
      "execution_count": null,
      "outputs": []
    },
    {
      "cell_type": "code",
      "source": [
        "# Chuyển đổi từ dictionary `closecent` sang DataFrame và chuyển đổi index thành các keys của dictionary\n",
        "closecent_df = pd.DataFrame(closecent, index=[0]).T\n",
        "\n",
        "# Đặt tên cột duy nhất là 'closeness_centrality' để biểu diễn giá trị độ trung tâm gần\n",
        "closecent_df.columns = ['closeness_centrality']\n",
        "\n",
        "# Sắp xếp các hàng trong DataFrame theo giá trị cột 'closeness_centrality' theo thứ tự giảm dần\n",
        "closecent_df.sort_values('closeness_centrality', inplace=True, ascending=False)\n",
        "\n",
        "# Hiển thị 5 hàng đầu tiên trong DataFrame sau khi sắp xếp\n",
        "closecent_df.head()"
      ],
      "metadata": {
        "id": "rO1WelCq2w39"
      },
      "execution_count": null,
      "outputs": []
    },
    {
      "cell_type": "code",
      "source": [
        "# Đặt tiêu đề biểu đồ là 'Top 20'\n",
        "title = 'Top 20'\n",
        "\n",
        "# Tạo biểu đồ cột ngang (barh) với 20 tài khoản đầu tiên trong DataFrame `betwcent_df`, với tiêu đề và kích thước (12, 7)\n",
        "_ = closecent_df[0:20].plot.barh(title=title, figsize=(12, 7))\n",
        "\n",
        "# Đảo ngược trục y để các giá trị cao hơn nằm trên cùng\n",
        "plt.gca().invert_yaxis()"
      ],
      "metadata": {
        "id": "p3gFc1tz21QL"
      },
      "execution_count": null,
      "outputs": []
    },
    {
      "cell_type": "code",
      "source": [],
      "metadata": {
        "id": "_wq8_uv-3LVz"
      },
      "execution_count": null,
      "outputs": []
    },
    {
      "cell_type": "markdown",
      "source": [
        "# 2.5.4 PageRank\n",
        "Công thức toán học PageRank tính đến số lượng liên kết đến và đi ra của không chỉ một nút đang xét mà còn cả các nút liên kết.  \\\\\n",
        "PageRank là một thuật toán rất nhanh, phù hợp cho các mạng lưới lớn và nhỏ, và rất hữu ích như một thước đo tầm quan trọng. PageRank hữu ích ngay cả đối với các mạng lưới lớn và dày đặc. \\\\\n",
        "Có thể tính toán điểm PageRank của mỗi nút trong mạng.\n",
        "\n",
        "\\\\\n",
        "Pagerank là một thuật toán được phát triển bởi Google để xác định tầm quan trọng của các trang web trong mạng lưới Internet. Ý nghĩa chính của pagerank là:\n",
        "\n",
        "1. Đo lường uy tín và độ quan trọng của một nút (trang web) trong một mạng lưới.\n",
        "2. Được tính toán dựa trên số lượng và chất lượng các liên kết hướng vào một nút.\n",
        "3. Các nút có nhiều liên kết hướng vào (từ các nút quan trọng khác) sẽ có pagerank cao hơn.\n",
        "4. Pagerank là một số từ 0 đến 1, thể hiện mức độ quan trọng tương đối của nút so với các nút khác trong mạng.\n",
        "5. Pagerank được sử dụng rộng rãi trong các công cụ tìm kiếm để xếp hạng và hiển thị các trang web quan trọng nhất liên quan đến một truy vấn.\n",
        "\n",
        "Tóm lại, pagerank cung cấp một cách đo lường định lượng sự quan trọng và uy tín của các nút (trang web) dựa trên cấu trúc liên kết của mạng. Đây là một kỹ thuật phân tích mạng quan trọng được ứng dụng rộng rãi trong thực tế."
      ],
      "metadata": {
        "id": "vXG6QltD3LtQ"
      }
    },
    {
      "cell_type": "code",
      "source": [
        "pagerank = nx.pagerank(G)\n",
        "pagerank"
      ],
      "metadata": {
        "id": "mr4SH-Wd3NBo"
      },
      "execution_count": null,
      "outputs": []
    },
    {
      "cell_type": "code",
      "source": [
        "pagerank_df = pd.DataFrame(pagerank, index=[0]).T\n",
        "pagerank_df.columns = ['pagerank']\n",
        "pagerank_df.sort_values('pagerank', inplace=True, ascending=False)\n",
        "pagerank_df.head()"
      ],
      "metadata": {
        "id": "krixU5rn3coV"
      },
      "execution_count": null,
      "outputs": []
    },
    {
      "cell_type": "code",
      "source": [
        "# Đặt tiêu đề biểu đồ là 'Top 20'\n",
        "title = 'Top 20'\n",
        "\n",
        "# Tạo biểu đồ cột ngang (barh) với 20 tài khoản đầu tiên trong DataFrame `betwcent_df`, với tiêu đề và kích thước (12, 7)\n",
        "_ = pagerank_df[0:20].plot.barh(title=title, figsize=(12, 7))\n",
        "\n",
        "# Đảo ngược trục y để các giá trị cao hơn nằm trên cùng\n",
        "plt.gca().invert_yaxis()"
      ],
      "metadata": {
        "id": "txjpegVF3iY3"
      },
      "execution_count": null,
      "outputs": []
    },
    {
      "cell_type": "code",
      "source": [
        "# Calculate basic network metrics\n",
        "density = nx.density(G)\n",
        "degrees = dict(G.degree())\n",
        "avg_degree = sum(degrees.values()) / len(G)\n",
        "adj_matrix = nx.adjacency_matrix(G).todense()\n",
        "\n",
        "# Visualize degree distribution\n",
        "plt.figure(figsize=(8, 6))\n",
        "plt.hist(list(degrees.values()), bins=20)\n",
        "plt.title('Degree Distribution')\n",
        "plt.xlabel('Degree')\n",
        "plt.ylabel('Count')\n",
        "plt.show()\n",
        "\n",
        "# Calculate centrality measures\n",
        "deg_cent = nx.degree_centrality(G)\n",
        "close_cent = nx.closeness_centrality(G)\n",
        "bet_cent = nx.betweenness_centrality(G)\n",
        "\n",
        "# Create a summary DataFrame\n",
        "summary = pd.DataFrame({\n",
        "    'node': list(G.nodes()),\n",
        "    'degree': [degrees[node] for node in G.nodes()],\n",
        "    'deg_cent': [deg_cent[node] for node in G.nodes()],\n",
        "    'close_cent': [close_cent[node] for node in G.nodes()],\n",
        "    'bet_cent': [bet_cent[node] for node in G.nodes()]\n",
        "})\n",
        "summary = summary.sort_values('bet_cent', ascending=False)\n",
        "print(summary.head())\n",
        "\n",
        "# Visualize the network\n",
        "pos = nx.spring_layout(G)\n",
        "plt.figure(figsize=(12, 12))\n",
        "nx.draw(G, pos, with_labels=True, node_size=[v*1000 for v in deg_cent.values()],\n",
        "       cmap=plt.cm.Blues)\n",
        "plt.title('Karate Club Network')\n",
        "plt.show()"
      ],
      "metadata": {
        "id": "kC9TJGIm3oIe"
      },
      "execution_count": null,
      "outputs": []
    },
    {
      "cell_type": "markdown",
      "source": [],
      "metadata": {
        "id": "mYgOvXxrr9fF"
      }
    }
  ]
}